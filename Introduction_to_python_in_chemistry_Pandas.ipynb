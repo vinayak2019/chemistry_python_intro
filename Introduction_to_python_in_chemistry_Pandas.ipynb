{
  "nbformat": 4,
  "nbformat_minor": 0,
  "metadata": {
    "colab": {
      "name": "Introduction_to_python_in_chemistry_Pandas.ipynb",
      "provenance": [],
      "authorship_tag": "ABX9TyMv9V79g1gI+5upgJT54ARs"
    },
    "kernelspec": {
      "name": "python3",
      "display_name": "Python 3"
    },
    "language_info": {
      "name": "python"
    }
  },
  "cells": [
    {
      "cell_type": "markdown",
      "metadata": {
        "id": "deluuqn3-dcQ"
      },
      "source": [
        "## Installing the mendeleev package"
      ]
    },
    {
      "cell_type": "code",
      "metadata": {
        "id": "0JPPKK0B3Oeq"
      },
      "source": [
        "!pip install mendeleev=0.12"
      ],
      "execution_count": null,
      "outputs": []
    },
    {
      "cell_type": "markdown",
      "metadata": {
        "id": "gn58Mcra-6o9"
      },
      "source": [
        "## Pandas DataFrame\n",
        "\n",
        "The pandas DataFrame is a table - it has rows with index and columns with headers. Each column is a pandas.Series object The required columnar data can be accessed with dot notation or subscripting. The row data can be accessed with iloc or loc method."
      ]
    },
    {
      "cell_type": "code",
      "metadata": {
        "id": "CVwr_5U8-UGG"
      },
      "source": [
        "# The variable ptable is assigned to the periodic table data from mendeleev package\n",
        "# with fetch_table function\n",
        "from mendeleev.fetch import fetch_table\n",
        "ptable = fetch_table('elements')"
      ],
      "execution_count": null,
      "outputs": []
    },
    {
      "cell_type": "code",
      "metadata": {
        "id": "ge9BqKML-l9l"
      },
      "source": [
        "# Let's look at the first 5 entries in the ptable\n",
        "# We use the head method\n",
        "ptable.head()"
      ],
      "execution_count": null,
      "outputs": []
    },
    {
      "cell_type": "code",
      "metadata": {
        "id": "O05b_ru0CvtP"
      },
      "source": [
        "# Take a look at all the column names with columns method\n",
        "ptable.columns"
      ],
      "execution_count": null,
      "outputs": []
    },
    {
      "cell_type": "code",
      "metadata": {
        "id": "IrDhJLpPCKNY"
      },
      "source": [
        "# Get the column with atomic_radius and save it to col_atomic_radius\n",
        "col_atomic_radius = ptable[\"atomic_radius\"]\n",
        "print(col_atomic_radius)"
      ],
      "execution_count": null,
      "outputs": []
    },
    {
      "cell_type": "code",
      "metadata": {
        "id": "k1bwgayiDAkb"
      },
      "source": [
        "# Getting statistics on a the atomi_radius column with describe method.\n",
        "# sum, mean, var, median methods are also available\n",
        "col_atomic_radius.describe()"
      ],
      "execution_count": null,
      "outputs": []
    },
    {
      "cell_type": "markdown",
      "metadata": {
        "id": "WkQnN4bvIUzf"
      },
      "source": [
        "Though we have 118 elements in the table, count is only 90. We have some missing values - NaN. Let's remove those values with dropna"
      ]
    },
    {
      "cell_type": "code",
      "metadata": {
        "id": "AesWpPwoITPc"
      },
      "source": [
        "# Drop the rows with NaN in atomic_radius column\n",
        "col_atomic_mass_clean = ptable[\"atomic_radius\"].dropna()\n",
        "col_atomic_mass_clean"
      ],
      "execution_count": null,
      "outputs": []
    },
    {
      "cell_type": "markdown",
      "metadata": {
        "id": "Jz6OycgHJDn6"
      },
      "source": [
        "The default index starts with 0. We will set the atomi symbol column as the index"
      ]
    },
    {
      "cell_type": "code",
      "metadata": {
        "id": "Kkpnq5WZJNTl"
      },
      "source": [
        "new_ptable = ptable.set_index(\"symbol\")\n",
        "new_ptable.head()"
      ],
      "execution_count": null,
      "outputs": []
    },
    {
      "cell_type": "code",
      "metadata": {
        "id": "5ukZn4ajMrOo"
      },
      "source": [
        "# To get the first row let's use loc method\n",
        "new_ptable.loc[\"H\"]"
      ],
      "execution_count": null,
      "outputs": []
    },
    {
      "cell_type": "code",
      "metadata": {
        "id": "L2VQN5WZM2qr"
      },
      "source": [
        "# Unlike loc which checks for the value in the index, iloc uses the row number\n",
        "# row number starts with 0\n",
        "new_ptable.iloc[0]"
      ],
      "execution_count": null,
      "outputs": []
    },
    {
      "cell_type": "markdown",
      "metadata": {
        "id": "QDzr5xgPGaSq"
      },
      "source": [
        "# **EXERCISE**"
      ]
    },
    {
      "cell_type": "markdown",
      "metadata": {
        "id": "UCK5JvNfG-FA"
      },
      "source": [
        "Assuming atoms are spheres, calculate the atomic volume from atomic radius. Hint: volume = (4/3) * 3.142 * (radius) ** 3"
      ]
    },
    {
      "cell_type": "code",
      "metadata": {
        "id": "NSq7xJ4tDLXa"
      },
      "source": [
        "# YOUR CODE HERE"
      ],
      "execution_count": null,
      "outputs": []
    },
    {
      "cell_type": "markdown",
      "metadata": {
        "id": "JvAUKx1AJTMT"
      },
      "source": [
        "Set the column with atomic symbol as the index"
      ]
    },
    {
      "cell_type": "code",
      "metadata": {
        "id": "99UX69GTHQDa"
      },
      "source": [
        "# YOUR CODE HERE"
      ],
      "execution_count": null,
      "outputs": []
    },
    {
      "cell_type": "markdown",
      "metadata": {
        "id": "R1OqOc56KMLp"
      },
      "source": [
        "## Groupby method\n",
        "\n",
        "This method allows you to group data. A categorical variable is generally used."
      ]
    },
    {
      "cell_type": "code",
      "metadata": {
        "id": "XiE97lcZKgWD"
      },
      "source": [
        "# Group elements by block\n",
        "# Here we first group data by block and get the elements in s block\n",
        "\n",
        "block_group = ptable.groupby(\"block\")\n",
        "block_group.get_group(\"s\")"
      ],
      "execution_count": null,
      "outputs": []
    },
    {
      "cell_type": "markdown",
      "metadata": {
        "id": "HY00S2CoNp0T"
      },
      "source": [
        "# **EXERCISE**"
      ]
    },
    {
      "cell_type": "markdown",
      "metadata": {
        "id": "kBg1VcIyNtfR"
      },
      "source": [
        "Use the ptable DataFrame to group data by block and get the element with highest boling point in the p-block"
      ]
    },
    {
      "cell_type": "code",
      "metadata": {
        "id": "QG6oN6UwLCbq"
      },
      "source": [
        "# YOUR CODE HERE"
      ],
      "execution_count": null,
      "outputs": []
    },
    {
      "cell_type": "markdown",
      "metadata": {
        "id": "WhdsMVZ1OqRy"
      },
      "source": [
        "Group data by lattice structure and find the most popular lattice type"
      ]
    },
    {
      "cell_type": "code",
      "metadata": {
        "id": "tghKmRLdOyVW"
      },
      "source": [
        "# YOUR CODE HERE"
      ],
      "execution_count": null,
      "outputs": []
    },
    {
      "cell_type": "markdown",
      "metadata": {
        "id": "HZZXkO5jhA5W"
      },
      "source": [
        "# Saving the dataframe and loading data into dataframe"
      ]
    },
    {
      "cell_type": "markdown",
      "metadata": {
        "id": "YAaR-B2QhI7x"
      },
      "source": [
        "We will save the s block dataframe as a CSV file. Then we will load the saved CSV file into a dataframe object. The format can be excel too."
      ]
    },
    {
      "cell_type": "code",
      "metadata": {
        "id": "h6DqQw-LhfF6"
      },
      "source": [
        "# Saving the dataframe\n",
        "df_sblock = block_group.get_group(\"s\")\n",
        "df_sblock.to_csv(\"s_block.csv\",index=False)"
      ],
      "execution_count": null,
      "outputs": []
    },
    {
      "cell_type": "code",
      "metadata": {
        "colab": {
          "base_uri": "https://localhost:8080/",
          "height": 655
        },
        "id": "mSw12Ge-htjs",
        "outputId": "23ab5c22-bdaa-4652-8ead-89bd75cd1060"
      },
      "source": [
        "# loading data into dataframe\n",
        "sblock = pd.read_csv(\"s_block.csv\")\n",
        "sblock.head()"
      ],
      "execution_count": null,
      "outputs": [
        {
          "output_type": "execute_result",
          "data": {
            "text/html": [
              "<div>\n",
              "<style scoped>\n",
              "    .dataframe tbody tr th:only-of-type {\n",
              "        vertical-align: middle;\n",
              "    }\n",
              "\n",
              "    .dataframe tbody tr th {\n",
              "        vertical-align: top;\n",
              "    }\n",
              "\n",
              "    .dataframe thead th {\n",
              "        text-align: right;\n",
              "    }\n",
              "</style>\n",
              "<table border=\"1\" class=\"dataframe\">\n",
              "  <thead>\n",
              "    <tr style=\"text-align: right;\">\n",
              "      <th></th>\n",
              "      <th>annotation</th>\n",
              "      <th>atomic_number</th>\n",
              "      <th>atomic_radius</th>\n",
              "      <th>atomic_volume</th>\n",
              "      <th>block</th>\n",
              "      <th>boiling_point</th>\n",
              "      <th>density</th>\n",
              "      <th>description</th>\n",
              "      <th>dipole_polarizability</th>\n",
              "      <th>electron_affinity</th>\n",
              "      <th>electronic_configuration</th>\n",
              "      <th>evaporation_heat</th>\n",
              "      <th>fusion_heat</th>\n",
              "      <th>group_id</th>\n",
              "      <th>lattice_constant</th>\n",
              "      <th>lattice_structure</th>\n",
              "      <th>melting_point</th>\n",
              "      <th>name</th>\n",
              "      <th>period</th>\n",
              "      <th>series_id</th>\n",
              "      <th>specific_heat</th>\n",
              "      <th>symbol</th>\n",
              "      <th>thermal_conductivity</th>\n",
              "      <th>vdw_radius</th>\n",
              "      <th>covalent_radius_cordero</th>\n",
              "      <th>covalent_radius_pyykko</th>\n",
              "      <th>en_pauling</th>\n",
              "      <th>en_allen</th>\n",
              "      <th>jmol_color</th>\n",
              "      <th>cpk_color</th>\n",
              "      <th>proton_affinity</th>\n",
              "      <th>gas_basicity</th>\n",
              "      <th>heat_of_formation</th>\n",
              "      <th>c6</th>\n",
              "      <th>covalent_radius_bragg</th>\n",
              "      <th>vdw_radius_bondi</th>\n",
              "      <th>vdw_radius_truhlar</th>\n",
              "      <th>vdw_radius_rt</th>\n",
              "      <th>vdw_radius_batsanov</th>\n",
              "      <th>vdw_radius_dreiding</th>\n",
              "      <th>vdw_radius_uff</th>\n",
              "      <th>vdw_radius_mm3</th>\n",
              "      <th>abundance_crust</th>\n",
              "      <th>abundance_sea</th>\n",
              "      <th>molcas_gv_color</th>\n",
              "      <th>en_ghosh</th>\n",
              "      <th>vdw_radius_alvarez</th>\n",
              "      <th>c6_gb</th>\n",
              "      <th>atomic_weight</th>\n",
              "      <th>atomic_weight_uncertainty</th>\n",
              "      <th>is_monoisotopic</th>\n",
              "      <th>is_radioactive</th>\n",
              "      <th>cas</th>\n",
              "      <th>atomic_radius_rahm</th>\n",
              "      <th>geochemical_class</th>\n",
              "      <th>goldschmidt_class</th>\n",
              "      <th>metallic_radius</th>\n",
              "      <th>metallic_radius_c12</th>\n",
              "      <th>covalent_radius_pyykko_double</th>\n",
              "      <th>covalent_radius_pyykko_triple</th>\n",
              "      <th>discoverers</th>\n",
              "      <th>discovery_year</th>\n",
              "      <th>discovery_location</th>\n",
              "      <th>name_origin</th>\n",
              "      <th>sources</th>\n",
              "      <th>uses</th>\n",
              "      <th>mendeleev_number</th>\n",
              "      <th>dipole_polarizability_unc</th>\n",
              "      <th>pettifor_number</th>\n",
              "      <th>glawe_number</th>\n",
              "    </tr>\n",
              "  </thead>\n",
              "  <tbody>\n",
              "    <tr>\n",
              "      <th>0</th>\n",
              "      <td>density(@ -253C), evaporation_heat(H-H), fusio...</td>\n",
              "      <td>1</td>\n",
              "      <td>25.0</td>\n",
              "      <td>14.1</td>\n",
              "      <td>s</td>\n",
              "      <td>20.280</td>\n",
              "      <td>0.0708</td>\n",
              "      <td>Colourless, odourless gaseous chemical element...</td>\n",
              "      <td>4.50711</td>\n",
              "      <td>0.754195</td>\n",
              "      <td>1s</td>\n",
              "      <td>0.904</td>\n",
              "      <td>0.117</td>\n",
              "      <td>1.0</td>\n",
              "      <td>3.75</td>\n",
              "      <td>HEX</td>\n",
              "      <td>14.01</td>\n",
              "      <td>Hydrogen</td>\n",
              "      <td>1</td>\n",
              "      <td>1</td>\n",
              "      <td>NaN</td>\n",
              "      <td>H</td>\n",
              "      <td>0.1815</td>\n",
              "      <td>110.0</td>\n",
              "      <td>31.0</td>\n",
              "      <td>32.0</td>\n",
              "      <td>2.20</td>\n",
              "      <td>13.610</td>\n",
              "      <td>#ffffff</td>\n",
              "      <td>#ffffff</td>\n",
              "      <td>NaN</td>\n",
              "      <td>NaN</td>\n",
              "      <td>217.998</td>\n",
              "      <td>6.499027</td>\n",
              "      <td>NaN</td>\n",
              "      <td>120.0</td>\n",
              "      <td>NaN</td>\n",
              "      <td>110.0</td>\n",
              "      <td>NaN</td>\n",
              "      <td>319.5</td>\n",
              "      <td>288.6</td>\n",
              "      <td>162.0</td>\n",
              "      <td>1400.000</td>\n",
              "      <td>108000.000000</td>\n",
              "      <td>#f2f2f2</td>\n",
              "      <td>0.263800</td>\n",
              "      <td>120.0</td>\n",
              "      <td>6.51</td>\n",
              "      <td>1.008000</td>\n",
              "      <td>NaN</td>\n",
              "      <td>NaN</td>\n",
              "      <td>False</td>\n",
              "      <td>1333-74-0</td>\n",
              "      <td>154.0</td>\n",
              "      <td>volatile</td>\n",
              "      <td>atmophile</td>\n",
              "      <td>NaN</td>\n",
              "      <td>78.0</td>\n",
              "      <td>NaN</td>\n",
              "      <td>NaN</td>\n",
              "      <td>Henry Cavendish</td>\n",
              "      <td>1766.0</td>\n",
              "      <td>England</td>\n",
              "      <td>Greek: hydro (water) and genes (generate)</td>\n",
              "      <td>Commercial quantities are produced by reacting...</td>\n",
              "      <td>Most hydrogen is used in the production of amm...</td>\n",
              "      <td>105</td>\n",
              "      <td>0.00003</td>\n",
              "      <td>103.0</td>\n",
              "      <td>103.0</td>\n",
              "    </tr>\n",
              "    <tr>\n",
              "      <th>1</th>\n",
              "      <td>density(@ -270C),</td>\n",
              "      <td>2</td>\n",
              "      <td>120.0</td>\n",
              "      <td>31.8</td>\n",
              "      <td>s</td>\n",
              "      <td>4.216</td>\n",
              "      <td>0.1470</td>\n",
              "      <td>Colourless, odourless gaseous nonmetallic elem...</td>\n",
              "      <td>1.38375</td>\n",
              "      <td>-19.700000</td>\n",
              "      <td>1s2</td>\n",
              "      <td>0.080</td>\n",
              "      <td>NaN</td>\n",
              "      <td>18.0</td>\n",
              "      <td>3.57</td>\n",
              "      <td>HEX</td>\n",
              "      <td>0.95</td>\n",
              "      <td>Helium</td>\n",
              "      <td>1</td>\n",
              "      <td>2</td>\n",
              "      <td>5.188</td>\n",
              "      <td>He</td>\n",
              "      <td>0.1520</td>\n",
              "      <td>140.0</td>\n",
              "      <td>28.0</td>\n",
              "      <td>46.0</td>\n",
              "      <td>NaN</td>\n",
              "      <td>24.590</td>\n",
              "      <td>#d9ffff</td>\n",
              "      <td>#ffc0cb</td>\n",
              "      <td>177.8</td>\n",
              "      <td>148.5</td>\n",
              "      <td>NaN</td>\n",
              "      <td>1.420000</td>\n",
              "      <td>NaN</td>\n",
              "      <td>140.0</td>\n",
              "      <td>NaN</td>\n",
              "      <td>NaN</td>\n",
              "      <td>NaN</td>\n",
              "      <td>NaN</td>\n",
              "      <td>236.2</td>\n",
              "      <td>153.0</td>\n",
              "      <td>0.008</td>\n",
              "      <td>0.000007</td>\n",
              "      <td>#d9ffff</td>\n",
              "      <td>0.442712</td>\n",
              "      <td>143.0</td>\n",
              "      <td>1.47</td>\n",
              "      <td>4.002602</td>\n",
              "      <td>2.000000e-06</td>\n",
              "      <td>NaN</td>\n",
              "      <td>False</td>\n",
              "      <td>7440-59-7</td>\n",
              "      <td>134.0</td>\n",
              "      <td>volatile</td>\n",
              "      <td>atmophile</td>\n",
              "      <td>NaN</td>\n",
              "      <td>122.0</td>\n",
              "      <td>NaN</td>\n",
              "      <td>NaN</td>\n",
              "      <td>Sir William Ramsey, Nils Langet, P.T.Cleve</td>\n",
              "      <td>1895.0</td>\n",
              "      <td>Scotland/Sweden</td>\n",
              "      <td>Greek: hêlios (sun).</td>\n",
              "      <td>Found in natural gas deposits &amp; in the air (5 ...</td>\n",
              "      <td>Used in balloons, deep sea diving &amp; welding. A...</td>\n",
              "      <td>112</td>\n",
              "      <td>0.00002</td>\n",
              "      <td>1.0</td>\n",
              "      <td>1.0</td>\n",
              "    </tr>\n",
              "    <tr>\n",
              "      <th>2</th>\n",
              "      <td>NaN</td>\n",
              "      <td>3</td>\n",
              "      <td>145.0</td>\n",
              "      <td>13.1</td>\n",
              "      <td>s</td>\n",
              "      <td>1118.150</td>\n",
              "      <td>0.5340</td>\n",
              "      <td>Socket silvery metal. First member of group 1 ...</td>\n",
              "      <td>164.11250</td>\n",
              "      <td>0.618049</td>\n",
              "      <td>[He] 2s</td>\n",
              "      <td>148.000</td>\n",
              "      <td>2.890</td>\n",
              "      <td>1.0</td>\n",
              "      <td>3.49</td>\n",
              "      <td>BCC</td>\n",
              "      <td>553.69</td>\n",
              "      <td>Lithium</td>\n",
              "      <td>2</td>\n",
              "      <td>3</td>\n",
              "      <td>3.489</td>\n",
              "      <td>Li</td>\n",
              "      <td>84.8000</td>\n",
              "      <td>182.0</td>\n",
              "      <td>128.0</td>\n",
              "      <td>133.0</td>\n",
              "      <td>0.98</td>\n",
              "      <td>5.392</td>\n",
              "      <td>#cc80ff</td>\n",
              "      <td>#b22222</td>\n",
              "      <td>NaN</td>\n",
              "      <td>NaN</td>\n",
              "      <td>159.300</td>\n",
              "      <td>1392.000000</td>\n",
              "      <td>150.0</td>\n",
              "      <td>181.0</td>\n",
              "      <td>NaN</td>\n",
              "      <td>NaN</td>\n",
              "      <td>220.0</td>\n",
              "      <td>NaN</td>\n",
              "      <td>245.1</td>\n",
              "      <td>255.0</td>\n",
              "      <td>20.000</td>\n",
              "      <td>0.180000</td>\n",
              "      <td>#cc80ff</td>\n",
              "      <td>0.105093</td>\n",
              "      <td>212.0</td>\n",
              "      <td>1410.00</td>\n",
              "      <td>6.940000</td>\n",
              "      <td>NaN</td>\n",
              "      <td>NaN</td>\n",
              "      <td>False</td>\n",
              "      <td>7439-93-2</td>\n",
              "      <td>220.0</td>\n",
              "      <td>alkali metal</td>\n",
              "      <td>litophile</td>\n",
              "      <td>123.0</td>\n",
              "      <td>155.0</td>\n",
              "      <td>124.0</td>\n",
              "      <td>NaN</td>\n",
              "      <td>Johann Arfwedson</td>\n",
              "      <td>1817.0</td>\n",
              "      <td>Sweden</td>\n",
              "      <td>Greek: lithos (stone).</td>\n",
              "      <td>Obtained by passing electric charge through me...</td>\n",
              "      <td>Used in batteries. Also for certain kinds of g...</td>\n",
              "      <td>1</td>\n",
              "      <td>0.00050</td>\n",
              "      <td>12.0</td>\n",
              "      <td>12.0</td>\n",
              "    </tr>\n",
              "    <tr>\n",
              "      <th>3</th>\n",
              "      <td>NaN</td>\n",
              "      <td>4</td>\n",
              "      <td>105.0</td>\n",
              "      <td>5.0</td>\n",
              "      <td>s</td>\n",
              "      <td>3243.000</td>\n",
              "      <td>1.8480</td>\n",
              "      <td>Grey metallic element of group 2 of the period...</td>\n",
              "      <td>37.74000</td>\n",
              "      <td>-2.400000</td>\n",
              "      <td>[He] 2s2</td>\n",
              "      <td>309.000</td>\n",
              "      <td>12.210</td>\n",
              "      <td>2.0</td>\n",
              "      <td>2.29</td>\n",
              "      <td>HEX</td>\n",
              "      <td>1551.00</td>\n",
              "      <td>Beryllium</td>\n",
              "      <td>2</td>\n",
              "      <td>4</td>\n",
              "      <td>1.824</td>\n",
              "      <td>Be</td>\n",
              "      <td>201.0000</td>\n",
              "      <td>153.0</td>\n",
              "      <td>96.0</td>\n",
              "      <td>102.0</td>\n",
              "      <td>1.57</td>\n",
              "      <td>9.323</td>\n",
              "      <td>#c2ff00</td>\n",
              "      <td>#ff1493</td>\n",
              "      <td>NaN</td>\n",
              "      <td>NaN</td>\n",
              "      <td>324.000</td>\n",
              "      <td>227.000000</td>\n",
              "      <td>115.0</td>\n",
              "      <td>NaN</td>\n",
              "      <td>153.0</td>\n",
              "      <td>NaN</td>\n",
              "      <td>190.0</td>\n",
              "      <td>NaN</td>\n",
              "      <td>274.5</td>\n",
              "      <td>223.0</td>\n",
              "      <td>2.800</td>\n",
              "      <td>0.000006</td>\n",
              "      <td>#c2ff00</td>\n",
              "      <td>0.144986</td>\n",
              "      <td>198.0</td>\n",
              "      <td>214.00</td>\n",
              "      <td>9.012183</td>\n",
              "      <td>5.000000e-07</td>\n",
              "      <td>True</td>\n",
              "      <td>False</td>\n",
              "      <td>7440-41-7</td>\n",
              "      <td>219.0</td>\n",
              "      <td>alkaline earth metal</td>\n",
              "      <td>litophile</td>\n",
              "      <td>89.0</td>\n",
              "      <td>112.0</td>\n",
              "      <td>90.0</td>\n",
              "      <td>85.0</td>\n",
              "      <td>Fredrich Wöhler, A.A.Bussy</td>\n",
              "      <td>1798.0</td>\n",
              "      <td>Germany/France</td>\n",
              "      <td>Greek: beryllos, \"beryl\" (a mineral).</td>\n",
              "      <td>Found mostly in minerals like beryl [AlBe3(Si6...</td>\n",
              "      <td>Its ability to absorb large amounts of heat ma...</td>\n",
              "      <td>75</td>\n",
              "      <td>0.03000</td>\n",
              "      <td>77.0</td>\n",
              "      <td>77.0</td>\n",
              "    </tr>\n",
              "    <tr>\n",
              "      <th>4</th>\n",
              "      <td>NaN</td>\n",
              "      <td>11</td>\n",
              "      <td>180.0</td>\n",
              "      <td>23.7</td>\n",
              "      <td>s</td>\n",
              "      <td>1156.100</td>\n",
              "      <td>0.9710</td>\n",
              "      <td>Soft silvery reactive element belonging to gro...</td>\n",
              "      <td>162.70000</td>\n",
              "      <td>0.547926</td>\n",
              "      <td>[Ne] 3s</td>\n",
              "      <td>97.900</td>\n",
              "      <td>2.640</td>\n",
              "      <td>1.0</td>\n",
              "      <td>4.23</td>\n",
              "      <td>BCC</td>\n",
              "      <td>370.96</td>\n",
              "      <td>Sodium</td>\n",
              "      <td>3</td>\n",
              "      <td>3</td>\n",
              "      <td>1.222</td>\n",
              "      <td>Na</td>\n",
              "      <td>142.0000</td>\n",
              "      <td>227.0</td>\n",
              "      <td>166.0</td>\n",
              "      <td>155.0</td>\n",
              "      <td>0.93</td>\n",
              "      <td>5.140</td>\n",
              "      <td>#ab5cf2</td>\n",
              "      <td>#0000ff</td>\n",
              "      <td>NaN</td>\n",
              "      <td>NaN</td>\n",
              "      <td>107.500</td>\n",
              "      <td>1518.000000</td>\n",
              "      <td>177.0</td>\n",
              "      <td>227.0</td>\n",
              "      <td>NaN</td>\n",
              "      <td>176.0</td>\n",
              "      <td>240.0</td>\n",
              "      <td>NaN</td>\n",
              "      <td>298.3</td>\n",
              "      <td>270.0</td>\n",
              "      <td>23600.000</td>\n",
              "      <td>10800.000000</td>\n",
              "      <td>#ab5cf2</td>\n",
              "      <td>0.093214</td>\n",
              "      <td>250.0</td>\n",
              "      <td>1570.00</td>\n",
              "      <td>22.989769</td>\n",
              "      <td>2.000000e-08</td>\n",
              "      <td>True</td>\n",
              "      <td>False</td>\n",
              "      <td>7440-23-5</td>\n",
              "      <td>225.0</td>\n",
              "      <td>major</td>\n",
              "      <td>litophile</td>\n",
              "      <td>157.0</td>\n",
              "      <td>190.0</td>\n",
              "      <td>160.0</td>\n",
              "      <td>NaN</td>\n",
              "      <td>Sir Humphrey Davy</td>\n",
              "      <td>1807.0</td>\n",
              "      <td>England</td>\n",
              "      <td>Medieval Latin: sodanum, (headache remedy); sy...</td>\n",
              "      <td>Obtained by electrolysis of melted sodium chlo...</td>\n",
              "      <td>There are few uses for the pure metal, however...</td>\n",
              "      <td>2</td>\n",
              "      <td>0.50000</td>\n",
              "      <td>11.0</td>\n",
              "      <td>11.0</td>\n",
              "    </tr>\n",
              "  </tbody>\n",
              "</table>\n",
              "</div>"
            ],
            "text/plain": [
              "                                          annotation  ...  glawe_number\n",
              "0  density(@ -253C), evaporation_heat(H-H), fusio...  ...         103.0\n",
              "1                                 density(@ -270C),   ...           1.0\n",
              "2                                                NaN  ...          12.0\n",
              "3                                                NaN  ...          77.0\n",
              "4                                                NaN  ...          11.0\n",
              "\n",
              "[5 rows x 70 columns]"
            ]
          },
          "metadata": {
            "tags": []
          },
          "execution_count": 29
        }
      ]
    },
    {
      "cell_type": "code",
      "metadata": {
        "id": "Rls06RlbiuWL"
      },
      "source": [],
      "execution_count": null,
      "outputs": []
    }
  ]
}